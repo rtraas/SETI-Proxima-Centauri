{
 "cells": [
  {
   "cell_type": "code",
   "execution_count": 3,
   "metadata": {},
   "outputs": [],
   "source": [
    "import numpy as np\n",
    "import blimpy as bl\n",
    "import pylab as plt\n",
    "import inspect\n",
    "import turbo_seti\n",
    "from turbo_seti.find_doppler.find_doppler import FindDoppler\n",
    "import turbo_seti\n",
    "%matplotlib inline"
   ]
  },
  {
   "cell_type": "markdown",
   "metadata": {},
   "source": [
    "### Inspect files"
   ]
  },
  {
   "cell_type": "code",
   "execution_count": 15,
   "metadata": {},
   "outputs": [
    {
     "name": "stdout",
     "output_type": "stream",
     "text": [
      "\n",
      "--- File Info ---\n",
      "    telescope_id :                                4\n",
      "           nbits :                               32\n",
      "     source_name :                    1421-490_ND_S\n",
      "       data_type :                                1\n",
      "          nchans :                         33554432\n",
      "           ibeam :                                1\n",
      "     barycentric :                                0\n",
      "   pulsarcentric :                                0\n",
      "           tsamp :                        16.777216\n",
      "            foff :          -3.814697265625e-06 MHz\n",
      "         src_raj :                     14:24:32.237\n",
      "         src_dej :                     -49:26:50.26\n",
      "   tstart (ISOT) :          2019-04-29T12:53:57.000\n",
      "    tstart (MJD) :                58602.53746527778\n",
      "          nbeams :                                1\n",
      "            fch1 :                       1472.0 MHz\n",
      "            nifs :                                1\n",
      "\n",
      "Num ints in file :                                1\n",
      "      File shape :                 (1, 1, 33554432)\n",
      "--- Selection Info ---\n",
      "Data selection shape :                 (1, 1, 33554432)\n",
      "Minimum freq (MHz) :               1344.0000038146973\n",
      "Maximum freq (MHz) :                           1472.0\n",
      "\n",
      "--- File Info ---\n",
      "    telescope_id :                                4\n",
      "           nbits :                               32\n",
      "     source_name :                        ProxCen_S\n",
      "       data_type :                                1\n",
      "          nchans :                         33554432\n",
      "           ibeam :                                1\n",
      "     barycentric :                                0\n",
      "   pulsarcentric :                                0\n",
      "           tsamp :                        16.777216\n",
      "            foff :          -3.814697265625e-06 MHz\n",
      "         src_raj :                     14:29:42.949\n",
      "         src_dej :                     -61:59:53.84\n",
      "   tstart (ISOT) :          2019-04-29T13:02:35.000\n",
      "    tstart (MJD) :                58602.54346064814\n",
      "          nbeams :                                1\n",
      "            fch1 :                       1472.0 MHz\n",
      "            nifs :                                1\n",
      "\n",
      "Num ints in file :                              107\n",
      "      File shape :               (107, 1, 33554432)\n",
      "--- Selection Info ---\n",
      "Data selection shape :               (107, 1, 33554432)\n",
      "Minimum freq (MHz) :               1344.0000038146973\n",
      "Maximum freq (MHz) :                           1472.0\n",
      "\n",
      "--- File Info ---\n",
      "    telescope_id :                                4\n",
      "           nbits :                               32\n",
      "     source_name :                       1421-490_S\n",
      "       data_type :                                1\n",
      "          nchans :                         33554432\n",
      "           ibeam :                                1\n",
      "     barycentric :                                0\n",
      "   pulsarcentric :                                0\n",
      "           tsamp :                        16.777216\n",
      "            foff :          -3.814697265625e-06 MHz\n",
      "         src_raj :                     14:24:32.237\n",
      "         src_dej :                     -49:26:50.26\n",
      "   tstart (ISOT) :          2019-04-29T13:34:59.000\n",
      "    tstart (MJD) :                58602.56596064815\n",
      "          nbeams :                                1\n",
      "            fch1 :                       1472.0 MHz\n",
      "            nifs :                                1\n",
      "\n",
      "Num ints in file :                               18\n",
      "      File shape :                (18, 1, 33554432)\n",
      "--- Selection Info ---\n",
      "Data selection shape :                (18, 1, 33554432)\n",
      "Minimum freq (MHz) :               1344.0000038146973\n",
      "Maximum freq (MHz) :                           1472.0\n",
      "\n",
      "--- File Info ---\n",
      "    telescope_id :                                4\n",
      "           nbits :                               32\n",
      "     source_name :                       1934-638_S\n",
      "       data_type :                                1\n",
      "          nchans :                         33554432\n",
      "           ibeam :                                1\n",
      "     barycentric :                                0\n",
      "   pulsarcentric :                                0\n",
      "           tsamp :                        16.777216\n",
      "            foff :          -3.814697265625e-06 MHz\n",
      "         src_raj :                     19:39:25.026\n",
      "         src_dej :                     -62:57:54.37\n",
      "   tstart (ISOT) :          2019-04-29T14:21:18.000\n",
      "    tstart (MJD) :               58602.598125000004\n",
      "          nbeams :                                1\n",
      "            fch1 :                       1472.0 MHz\n",
      "            nifs :                                1\n",
      "\n",
      "Num ints in file :                               18\n",
      "      File shape :                (18, 1, 33554432)\n",
      "--- Selection Info ---\n",
      "Data selection shape :                (18, 1, 33554432)\n",
      "Minimum freq (MHz) :               1344.0000038146973\n",
      "Maximum freq (MHz) :                           1472.0\n"
     ]
    }
   ],
   "source": [
    "fbOFF1 = bl.Waterfall('/mnt_blpd2/datax/PKSUWL/blc06/PKSUWL/blc06_1421-490_ND_S_2019-04-29T12:53:57.000.fil')\n",
    "fbOFF1.info()\n",
    "\n",
    "fbON1 = bl.Waterfall('/mnt_blpd2/datax/PKSUWL/blc06/PKSUWL/blc06_ProxCen_S_2019-04-29T13:02:35.000.fil')\n",
    "fbON1.info()\n",
    "\n",
    "fbOFF2 = bl.Waterfall('/mnt_blpd2/datax/PKSUWL/blc06/PKSUWL/blc06_1421-490_S_2019-04-29T13:34:59.000.fil')\n",
    "fbOFF2.info()\n",
    "\n",
    "fbOFF3 = bl.Waterfall('/mnt_blpd2/datax/PKSUWL/blc06/PKSUWL/blc06_1934-638_S_2019-04-29T14:21:18.000.fil')\n",
    "fbOFF3.info()"
   ]
  },
  {
   "cell_type": "markdown",
   "metadata": {},
   "source": [
    "### Create search objects"
   ]
  },
  {
   "cell_type": "code",
   "execution_count": 16,
   "metadata": {},
   "outputs": [],
   "source": [
    "dopOFF1 = FindDoppler('/mnt_blpd2/datax/PKSUWL/blc06/PKSUWL/blc06_1421-490_ND_S_2019-04-29T12:53:57.000.fil', 2, snr=25,\n",
    "                  out_dir='turboSETIout/')\n",
    "dopON1 = FindDoppler('/mnt_blpd2/datax/PKSUWL/blc06/PKSUWL/blc06_ProxCen_S_2019-04-29T13:02:35.000.fil', 2, snr=25,\n",
    "                  out_dir='turboSETIout/')\n",
    "dopOFF2 = FindDoppler('/mnt_blpd2/datax/PKSUWL/blc06/PKSUWL/blc06_1421-490_S_2019-04-29T13:34:59.000.fil', 2, snr=25,\n",
    "                  out_dir='turboSETIout/')\n",
    "#Search for this file as been done in turboSETI.ipynb\n",
    "#dopON2 = FindDoppler('/mnt_blpd2/datax/PKSUWL/blc06/PKSUWL/blc06_ProxCen_S_2019-04-29T13:47:46.000.fil', 2, snr=25,\n",
    "#                  out_dir='turboSETIout/')\n",
    "dopOFF3 = FindDoppler('/mnt_blpd2/datax/PKSUWL/blc06/PKSUWL/blc06_1934-638_S_2019-04-29T14:21:18.000.fil', 2, snr=25,\n",
    "                  out_dir='turboSETIout/')"
   ]
  },
  {
   "cell_type": "code",
   "execution_count": 10,
   "metadata": {},
   "outputs": [
    {
     "data": {
      "text/plain": [
       "'File: turboSETIout/blc10_ProxCen_S_2019-04-29T13:02:35.000.h5\\n drift rates (min, max): (0.000000, 2.000000)\\n SNR: 25.000000\\n'"
      ]
     },
     "execution_count": 10,
     "metadata": {},
     "output_type": "execute_result"
    }
   ],
   "source": [
    "dopON1.get_info()"
   ]
  },
  {
   "cell_type": "code",
   "execution_count": 17,
   "metadata": {},
   "outputs": [
    {
     "ename": "TypeError",
     "evalue": "'<' not supported between instances of 'NoneType' and 'int'",
     "output_type": "error",
     "traceback": [
      "\u001b[0;31m---------------------------------------------------------------------------\u001b[0m",
      "\u001b[0;31mTypeError\u001b[0m                                 Traceback (most recent call last)",
      "\u001b[0;32m<ipython-input-17-76a12affee48>\u001b[0m in \u001b[0;36m<module>\u001b[0;34m\u001b[0m\n\u001b[0;32m----> 1\u001b[0;31m \u001b[0mdopOFF1\u001b[0m\u001b[0;34m.\u001b[0m\u001b[0msearch\u001b[0m\u001b[0;34m(\u001b[0m\u001b[0;34m)\u001b[0m\u001b[0;34m\u001b[0m\u001b[0;34m\u001b[0m\u001b[0m\n\u001b[0m\u001b[1;32m      2\u001b[0m \u001b[0mdopON1\u001b[0m\u001b[0;34m.\u001b[0m\u001b[0msearch\u001b[0m\u001b[0;34m(\u001b[0m\u001b[0;34m)\u001b[0m\u001b[0;34m\u001b[0m\u001b[0;34m\u001b[0m\u001b[0m\n\u001b[1;32m      3\u001b[0m \u001b[0mdopOFF2\u001b[0m\u001b[0;34m.\u001b[0m\u001b[0msearch\u001b[0m\u001b[0;34m(\u001b[0m\u001b[0;34m)\u001b[0m\u001b[0;34m\u001b[0m\u001b[0;34m\u001b[0m\u001b[0m\n\u001b[1;32m      4\u001b[0m \u001b[0mdopOFF3\u001b[0m\u001b[0;34m.\u001b[0m\u001b[0msearch\u001b[0m\u001b[0;34m(\u001b[0m\u001b[0;34m)\u001b[0m\u001b[0;34m\u001b[0m\u001b[0;34m\u001b[0m\u001b[0m\n",
      "\u001b[0;32m/opt/conda/lib/python3.7/site-packages/turbo_seti/find_doppler/find_doppler.py\u001b[0m in \u001b[0;36msearch\u001b[0;34m(self)\u001b[0m\n\u001b[1;32m    116\u001b[0m \u001b[0;34m\u001b[0m\u001b[0m\n\u001b[1;32m    117\u001b[0m         \u001b[0;32mfor\u001b[0m \u001b[0mii\u001b[0m\u001b[0;34m,\u001b[0m\u001b[0mtarget_data_obj\u001b[0m \u001b[0;32min\u001b[0m \u001b[0menumerate\u001b[0m\u001b[0;34m(\u001b[0m\u001b[0mself\u001b[0m\u001b[0;34m.\u001b[0m\u001b[0mdata_handle\u001b[0m\u001b[0;34m.\u001b[0m\u001b[0mdata_list\u001b[0m\u001b[0;34m)\u001b[0m\u001b[0;34m:\u001b[0m\u001b[0;34m\u001b[0m\u001b[0;34m\u001b[0m\u001b[0m\n\u001b[0;32m--> 118\u001b[0;31m             \u001b[0mself\u001b[0m\u001b[0;34m.\u001b[0m\u001b[0msearch_data\u001b[0m\u001b[0;34m(\u001b[0m\u001b[0mtarget_data_obj\u001b[0m\u001b[0;34m)\u001b[0m\u001b[0;34m\u001b[0m\u001b[0;34m\u001b[0m\u001b[0m\n\u001b[0m\u001b[1;32m    119\u001b[0m             \u001b[0mself\u001b[0m\u001b[0;34m.\u001b[0m\u001b[0mdata_handle\u001b[0m\u001b[0;34m.\u001b[0m\u001b[0mdata_list\u001b[0m\u001b[0;34m[\u001b[0m\u001b[0mii\u001b[0m\u001b[0;34m]\u001b[0m\u001b[0;34m.\u001b[0m\u001b[0mclose\u001b[0m\u001b[0;34m(\u001b[0m\u001b[0;34m)\u001b[0m\u001b[0;34m\u001b[0m\u001b[0;34m\u001b[0m\u001b[0m\n\u001b[1;32m    120\u001b[0m             \u001b[0mgc\u001b[0m\u001b[0;34m.\u001b[0m\u001b[0mcollect\u001b[0m\u001b[0;34m(\u001b[0m\u001b[0;34m)\u001b[0m\u001b[0;34m\u001b[0m\u001b[0;34m\u001b[0m\u001b[0m\n",
      "\u001b[0;32m/opt/conda/lib/python3.7/site-packages/turbo_seti/find_doppler/find_doppler.py\u001b[0m in \u001b[0;36msearch_data\u001b[0;34m(self, data_obj)\u001b[0m\n\u001b[1;32m    131\u001b[0m         \u001b[0mlogger\u001b[0m\u001b[0;34m.\u001b[0m\u001b[0minfo\u001b[0m\u001b[0;34m(\u001b[0m\u001b[0;34m\"Start searching for coarse channel: %s\"\u001b[0m\u001b[0;34m%\u001b[0m\u001b[0mdata_obj\u001b[0m\u001b[0;34m.\u001b[0m\u001b[0mheader\u001b[0m\u001b[0;34m[\u001b[0m\u001b[0;34m'coarse_chan'\u001b[0m\u001b[0;34m]\u001b[0m\u001b[0;34m)\u001b[0m\u001b[0;34m\u001b[0m\u001b[0;34m\u001b[0m\u001b[0m\n\u001b[1;32m    132\u001b[0m         \u001b[0mself\u001b[0m\u001b[0;34m.\u001b[0m\u001b[0mlogwriter\u001b[0m\u001b[0;34m.\u001b[0m\u001b[0minfo\u001b[0m\u001b[0;34m(\u001b[0m\u001b[0;34m\"Start searching for %s ; coarse channel: %i \"\u001b[0m\u001b[0;34m%\u001b[0m\u001b[0;34m(\u001b[0m\u001b[0mdata_obj\u001b[0m\u001b[0;34m.\u001b[0m\u001b[0mfilename\u001b[0m\u001b[0;34m,\u001b[0m\u001b[0mdata_obj\u001b[0m\u001b[0;34m.\u001b[0m\u001b[0mheader\u001b[0m\u001b[0;34m[\u001b[0m\u001b[0;34m'coarse_chan'\u001b[0m\u001b[0;34m]\u001b[0m\u001b[0;34m)\u001b[0m\u001b[0;34m)\u001b[0m\u001b[0;34m\u001b[0m\u001b[0;34m\u001b[0m\u001b[0m\n\u001b[0;32m--> 133\u001b[0;31m         \u001b[0mspectra\u001b[0m\u001b[0;34m,\u001b[0m \u001b[0mdrift_indices\u001b[0m \u001b[0;34m=\u001b[0m \u001b[0mdata_obj\u001b[0m\u001b[0;34m.\u001b[0m\u001b[0mload_data\u001b[0m\u001b[0;34m(\u001b[0m\u001b[0;34m)\u001b[0m\u001b[0;34m\u001b[0m\u001b[0;34m\u001b[0m\u001b[0m\n\u001b[0m\u001b[1;32m    134\u001b[0m         \u001b[0mtsteps\u001b[0m \u001b[0;34m=\u001b[0m \u001b[0mdata_obj\u001b[0m\u001b[0;34m.\u001b[0m\u001b[0mtsteps\u001b[0m\u001b[0;34m\u001b[0m\u001b[0;34m\u001b[0m\u001b[0m\n\u001b[1;32m    135\u001b[0m         \u001b[0mtsteps_valid\u001b[0m \u001b[0;34m=\u001b[0m \u001b[0mdata_obj\u001b[0m\u001b[0;34m.\u001b[0m\u001b[0mtsteps_valid\u001b[0m\u001b[0;34m\u001b[0m\u001b[0;34m\u001b[0m\u001b[0m\n",
      "\u001b[0;32m/opt/conda/lib/python3.7/site-packages/turbo_seti/find_doppler/data_handler.py\u001b[0m in \u001b[0;36mload_data\u001b[0;34m(self)\u001b[0m\n\u001b[1;32m    223\u001b[0m \u001b[0;34m\u001b[0m\u001b[0m\n\u001b[1;32m    224\u001b[0m         \u001b[0;31m#Blanking DC bin.\u001b[0m\u001b[0;34m\u001b[0m\u001b[0;34m\u001b[0m\u001b[0;34m\u001b[0m\u001b[0m\n\u001b[0;32m--> 225\u001b[0;31m         \u001b[0mself\u001b[0m\u001b[0;34m.\u001b[0m\u001b[0mfil_file\u001b[0m\u001b[0;34m.\u001b[0m\u001b[0mblank_dc\u001b[0m\u001b[0;34m(\u001b[0m\u001b[0mself\u001b[0m\u001b[0;34m.\u001b[0m\u001b[0mn_coarse_chan\u001b[0m\u001b[0;34m)\u001b[0m\u001b[0;34m\u001b[0m\u001b[0;34m\u001b[0m\u001b[0m\n\u001b[0m\u001b[1;32m    226\u001b[0m \u001b[0;34m\u001b[0m\u001b[0m\n\u001b[1;32m    227\u001b[0m         \u001b[0mspec\u001b[0m \u001b[0;34m=\u001b[0m \u001b[0mnp\u001b[0m\u001b[0;34m.\u001b[0m\u001b[0msqueeze\u001b[0m\u001b[0;34m(\u001b[0m\u001b[0mself\u001b[0m\u001b[0;34m.\u001b[0m\u001b[0mfil_file\u001b[0m\u001b[0;34m.\u001b[0m\u001b[0mdata\u001b[0m\u001b[0;34m)\u001b[0m\u001b[0;34m\u001b[0m\u001b[0;34m\u001b[0m\u001b[0m\n",
      "\u001b[0;32m/opt/conda/lib/python3.7/site-packages/blimpy/waterfall.py\u001b[0m in \u001b[0;36mblank_dc\u001b[0;34m(self, n_coarse_chan)\u001b[0m\n\u001b[1;32m    320\u001b[0m         \"\"\"\n\u001b[1;32m    321\u001b[0m \u001b[0;34m\u001b[0m\u001b[0m\n\u001b[0;32m--> 322\u001b[0;31m         \u001b[0;32mif\u001b[0m \u001b[0mn_coarse_chan\u001b[0m \u001b[0;34m<\u001b[0m \u001b[0;36m1\u001b[0m\u001b[0;34m:\u001b[0m\u001b[0;34m\u001b[0m\u001b[0;34m\u001b[0m\u001b[0m\n\u001b[0m\u001b[1;32m    323\u001b[0m             \u001b[0mlogger\u001b[0m\u001b[0;34m.\u001b[0m\u001b[0mwarning\u001b[0m\u001b[0;34m(\u001b[0m\u001b[0;34m'Coarse channel number < 1, unable to blank DC bin.'\u001b[0m\u001b[0;34m)\u001b[0m\u001b[0;34m\u001b[0m\u001b[0;34m\u001b[0m\u001b[0m\n\u001b[1;32m    324\u001b[0m             \u001b[0;32mreturn\u001b[0m \u001b[0;32mNone\u001b[0m\u001b[0;34m\u001b[0m\u001b[0;34m\u001b[0m\u001b[0m\n",
      "\u001b[0;31mTypeError\u001b[0m: '<' not supported between instances of 'NoneType' and 'int'"
     ]
    }
   ],
   "source": [
    "dopOFF1.search()\n",
    "dopON1.search()\n",
    "dopOFF2.search()\n",
    "dopOFF3.search()"
   ]
  },
  {
   "cell_type": "code",
   "execution_count": null,
   "metadata": {},
   "outputs": [],
   "source": []
  }
 ],
 "metadata": {
  "kernelspec": {
   "display_name": "Python 3",
   "language": "python",
   "name": "python3"
  },
  "language_info": {
   "codemirror_mode": {
    "name": "ipython",
    "version": 3
   },
   "file_extension": ".py",
   "mimetype": "text/x-python",
   "name": "python",
   "nbconvert_exporter": "python",
   "pygments_lexer": "ipython3",
   "version": "3.7.6"
  }
 },
 "nbformat": 4,
 "nbformat_minor": 4
}
