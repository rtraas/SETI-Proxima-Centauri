{
 "cells": [
  {
   "cell_type": "code",
   "execution_count": 7,
   "metadata": {},
   "outputs": [],
   "source": [
    "import numpy as np\n",
    "import blimpy as bl\n",
    "import pylab as plt\n",
    "import turbo_seti\n",
    "from turbo_seti.find_doppler.find_doppler import FindDoppler\n",
    "import turbo_seti\n",
    "%matplotlib inline"
   ]
  },
  {
   "cell_type": "code",
   "execution_count": 16,
   "metadata": {},
   "outputs": [],
   "source": [
    "OFF1 = '/mnt_blpd2/datax/PKSUWL/blc06/PKSUWL/blc06_1421-490_S_2019-04-29T12:39:50.000.fil'\n",
    "ON1 = '/mnt_blpd2/datax/PKSUWL/blc06/PKSUWL/blc06_ProxCen_S_2019-04-29T13:02:35.000.fil'\n",
    "OFF2 = '/mnt_blpd2/datax/PKSUWL/blc06/PKSUWL/blc06_1421-490_S_2019-04-29T13:34:59.000.fil'\n",
    "# ON2 = '/mnt_blpd2/datax/PKSUWL/blc06/PKSUWL/blc06_ProxCen_S_2019-04-29T13:47:46.000.fil'\n",
    "OFF3 = '/mnt_blpd2/datax/PKSUWL/blc06/PKSUWL/blc06_1934-638_S_2019-04-29T14:21:18.000.fil'"
   ]
  },
  {
   "cell_type": "markdown",
   "metadata": {},
   "source": [
    "### Inspect files"
   ]
  },
  {
   "cell_type": "code",
   "execution_count": 17,
   "metadata": {},
   "outputs": [
    {
     "name": "stdout",
     "output_type": "stream",
     "text": [
      "\n",
      "--- File Info ---\n",
      "    telescope_id :                                4\n",
      "           nbits :                               32\n",
      "     source_name :                       1421-490_S\n",
      "       data_type :                                1\n",
      "          nchans :                         33554432\n",
      "           ibeam :                                1\n",
      "     barycentric :                                0\n",
      "   pulsarcentric :                                0\n",
      "           tsamp :                        16.777216\n",
      "            foff :          -3.814697265625e-06 MHz\n",
      "         src_raj :                     14:24:32.237\n",
      "         src_dej :                     -49:26:50.26\n",
      "   tstart (ISOT) :          2019-04-29T12:39:50.000\n",
      "    tstart (MJD) :                58602.52766203704\n",
      "          nbeams :                                1\n",
      "            fch1 :                       1472.0 MHz\n",
      "            nifs :                                1\n",
      "\n",
      "Num ints in file :                               18\n",
      "      File shape :                (18, 1, 33554432)\n",
      "--- Selection Info ---\n",
      "Data selection shape :                (18, 1, 33554432)\n",
      "Minimum freq (MHz) :               1344.0000038146973\n",
      "Maximum freq (MHz) :                           1472.0\n",
      "\n",
      "--- File Info ---\n",
      "    telescope_id :                                4\n",
      "           nbits :                               32\n",
      "     source_name :                        ProxCen_S\n",
      "       data_type :                                1\n",
      "          nchans :                         33554432\n",
      "           ibeam :                                1\n",
      "     barycentric :                                0\n",
      "   pulsarcentric :                                0\n",
      "           tsamp :                        16.777216\n",
      "            foff :          -3.814697265625e-06 MHz\n",
      "         src_raj :                     14:29:42.949\n",
      "         src_dej :                     -61:59:53.84\n",
      "   tstart (ISOT) :          2019-04-29T13:02:35.000\n",
      "    tstart (MJD) :                58602.54346064814\n",
      "          nbeams :                                1\n",
      "            fch1 :                       1472.0 MHz\n",
      "            nifs :                                1\n",
      "\n",
      "Num ints in file :                              107\n",
      "      File shape :               (107, 1, 33554432)\n",
      "--- Selection Info ---\n",
      "Data selection shape :               (107, 1, 33554432)\n",
      "Minimum freq (MHz) :               1344.0000038146973\n",
      "Maximum freq (MHz) :                           1472.0\n",
      "\n",
      "--- File Info ---\n",
      "    telescope_id :                                4\n",
      "           nbits :                               32\n",
      "     source_name :                       1421-490_S\n",
      "       data_type :                                1\n",
      "          nchans :                         33554432\n",
      "           ibeam :                                1\n",
      "     barycentric :                                0\n",
      "   pulsarcentric :                                0\n",
      "           tsamp :                        16.777216\n",
      "            foff :          -3.814697265625e-06 MHz\n",
      "         src_raj :                     14:24:32.237\n",
      "         src_dej :                     -49:26:50.26\n",
      "   tstart (ISOT) :          2019-04-29T13:34:59.000\n",
      "    tstart (MJD) :                58602.56596064815\n",
      "          nbeams :                                1\n",
      "            fch1 :                       1472.0 MHz\n",
      "            nifs :                                1\n",
      "\n",
      "Num ints in file :                               18\n",
      "      File shape :                (18, 1, 33554432)\n",
      "--- Selection Info ---\n",
      "Data selection shape :                (18, 1, 33554432)\n",
      "Minimum freq (MHz) :               1344.0000038146973\n",
      "Maximum freq (MHz) :                           1472.0\n",
      "\n",
      "--- File Info ---\n",
      "    telescope_id :                                4\n",
      "           nbits :                               32\n",
      "     source_name :                       1934-638_S\n",
      "       data_type :                                1\n",
      "          nchans :                         33554432\n",
      "           ibeam :                                1\n",
      "     barycentric :                                0\n",
      "   pulsarcentric :                                0\n",
      "           tsamp :                        16.777216\n",
      "            foff :          -3.814697265625e-06 MHz\n",
      "         src_raj :                     19:39:25.026\n",
      "         src_dej :                     -62:57:54.37\n",
      "   tstart (ISOT) :          2019-04-29T14:21:18.000\n",
      "    tstart (MJD) :               58602.598125000004\n",
      "          nbeams :                                1\n",
      "            fch1 :                       1472.0 MHz\n",
      "            nifs :                                1\n",
      "\n",
      "Num ints in file :                               18\n",
      "      File shape :                (18, 1, 33554432)\n",
      "--- Selection Info ---\n",
      "Data selection shape :                (18, 1, 33554432)\n",
      "Minimum freq (MHz) :               1344.0000038146973\n",
      "Maximum freq (MHz) :                           1472.0\n"
     ]
    }
   ],
   "source": [
    "fbOFF1 = bl.Waterfall(OFF1)\n",
    "fbOFF1.info()\n",
    "\n",
    "fbON1 = bl.Waterfall(ON1)\n",
    "fbON1.info()\n",
    "\n",
    "fbOFF2 = bl.Waterfall(OFF2)\n",
    "fbOFF2.info()\n",
    "\n",
    "fbOFF3 = bl.Waterfall(OFF3)\n",
    "fbOFF3.info()"
   ]
  },
  {
   "cell_type": "markdown",
   "metadata": {},
   "source": [
    "### Create search objects"
   ]
  },
  {
   "cell_type": "code",
   "execution_count": 18,
   "metadata": {},
   "outputs": [],
   "source": [
    "dopOFF1 = FindDoppler(OFF1, 2, snr=25,\n",
    "                  out_dir='turboSETIout/')\n",
    "# dopON1 = FindDoppler(ON1, 2, snr=25,\n",
    "#                   out_dir='turboSETIout/')\n",
    "# dopOFF2 = FindDoppler(OFF2, 2, snr=25,\n",
    "#                   out_dir='turboSETIout/')\n",
    "# #Search for this file as been done in turboSETI.ipynb\n",
    "# #dopON2 = FindDoppler('/mnt_blpd2/datax/PKSUWL/blc06/PKSUWL/blc06_ProxCen_S_2019-04-29T13:47:46.000.fil', 2, snr=25,\n",
    "# #                  out_dir='turboSETIout/')\n",
    "# dopOFF3 = FindDoppler(OFF3, 2, snr=25,\n",
    "#                   out_dir='turboSETIout/')"
   ]
  },
  {
   "cell_type": "code",
   "execution_count": 19,
   "metadata": {},
   "outputs": [],
   "source": [
    "dopOFF1.search()\n",
    "# dopON1.search()\n",
    "# dopOFF2.search()\n",
    "# dopOFF3.search()"
   ]
  },
  {
   "cell_type": "code",
   "execution_count": null,
   "metadata": {},
   "outputs": [],
   "source": []
  }
 ],
 "metadata": {
  "kernelspec": {
   "display_name": "Python 3",
   "language": "python",
   "name": "python3"
  },
  "language_info": {
   "codemirror_mode": {
    "name": "ipython",
    "version": 3
   },
   "file_extension": ".py",
   "mimetype": "text/x-python",
   "name": "python",
   "nbconvert_exporter": "python",
   "pygments_lexer": "ipython3",
   "version": "3.7.6"
  }
 },
 "nbformat": 4,
 "nbformat_minor": 4
}
